{
 "cells": [
  {
   "cell_type": "markdown",
   "id": "60b97ba4",
   "metadata": {
    "ExecuteTime": {
     "end_time": "2024-01-20T10:39:07.770412Z",
     "start_time": "2024-01-20T10:39:07.751008Z"
    }
   },
   "source": [
    "## INTRODUCTION\n",
    "<p>This is Staffelter Hof Winery, Germany's oldest business, which was established in 862 under the Carolingian dynasty. It has continued to serve customers through dramatic changes in Europe such as the Holy Roman Empire, the Ottoman Empire, and both world wars. What characteristics enable a business to stand the test of time? Image credit: <a href=\"https://commons.wikimedia.org/wiki/File:MKn_Staffelter_Hof.jpg\">Martin Kraft</a>\n",
    "<img src=\"https://assets.datacamp.com/production/project_1383/./img/MKn_Staffelter_Hof.jpeg\" alt=\"The entrance to Staffelter Hof Winery, a German winery established in 862.\" width=\"400\"></p>\n",
    "<p>To help answer this question, BusinessFinancing.co.uk <a href=\"https://businessfinancing.co.uk/the-oldest-company-in-almost-every-country\">researched</a> the oldest company that is still in business in almost every country and compiled the results into a dataset. Let's explore this work to to better understand these historic businesses. Our datasets, which are all located in the <code>datasets</code> directory, contain the following information: </p>\n",
    "<h3 id=\"businessesandnew_businesses\"><code>businesses</code> and <code>new_businesses</code></h3>\n",
    "<table>\n",
    "<thead>\n",
    "<tr>\n",
    "<th style=\"text-align:left;\">column</th>\n",
    "<th>type</th>\n",
    "<th>meaning</th>\n",
    "</tr>\n",
    "</thead>\n",
    "<tbody>\n",
    "<tr>\n",
    "<td style=\"text-align:left;\"><code>business</code></td>\n",
    "<td>varchar</td>\n",
    "<td>Name of the business.</td>\n",
    "</tr>\n",
    "<tr>\n",
    "<td style=\"text-align:left;\"><code>year_founded</code></td>\n",
    "<td>int</td>\n",
    "<td>Year the business was founded.</td>\n",
    "</tr>\n",
    "<tr>\n",
    "<td style=\"text-align:left;\"><code>category_code</code></td>\n",
    "<td>varchar</td>\n",
    "<td>Code for the category of the business.</td>\n",
    "</tr>\n",
    "<tr>\n",
    "<td style=\"text-align:left;\"><code>country_code</code></td>\n",
    "<td>char</td>\n",
    "<td>ISO 3166-1 3-letter country code.</td>\n",
    "</tr>\n",
    "</tbody>\n",
    "</table>\n",
    "<h3 id=\"countries\"><code>countries</code></h3>\n",
    "<table>\n",
    "<thead>\n",
    "<tr>\n",
    "<th style=\"text-align:left;\">column</th>\n",
    "<th>type</th>\n",
    "<th>meaning</th>\n",
    "</tr>\n",
    "</thead>\n",
    "<tbody>\n",
    "<tr>\n",
    "<td style=\"text-align:left;\"><code>country_code</code></td>\n",
    "<td>varchar</td>\n",
    "<td>ISO 3166-1 3-letter country code.</td>\n",
    "</tr>\n",
    "<tr>\n",
    "<td style=\"text-align:left;\"><code>country</code></td>\n",
    "<td>varchar</td>\n",
    "<td>Name of the country.</td>\n",
    "</tr>\n",
    "<tr>\n",
    "<td style=\"text-align:left;\"><code>continent</code></td>\n",
    "<td>varchar</td>\n",
    "<td>Name of the continent that the country exists in.</td>\n",
    "</tr>\n",
    "</tbody>\n",
    "</table>\n",
    "<h3 id=\"categories\"><code>categories</code></h3>\n",
    "<table>\n",
    "<thead>\n",
    "<tr>\n",
    "<th style=\"text-align:left;\">column</th>\n",
    "<th>type</th>\n",
    "<th>meaning</th>\n",
    "</tr>\n",
    "</thead>\n",
    "<tbody>\n",
    "<tr>\n",
    "<td style=\"text-align:left;\"><code>category_code</code></td>\n",
    "<td>varchar</td>\n",
    "<td>Code for the category of the business.</td>\n",
    "</tr>\n",
    "<tr>\n",
    "<td style=\"text-align:left;\"><code>category</code></td>\n",
    "<td>varchar</td>\n",
    "<td>Description of the business category.</td>\n",
    "</tr>\n",
    "</tbody>\n",
    "</table>\n",
    "<p>Now let's learn about some of the world's oldest businesses still in operation!<br>\n",
    "Before starting our analysis, we have to import the libraries we'd need for our exploration and analysis.</p>"
   ]
  },
  {
   "cell_type": "code",
   "execution_count": 27,
   "id": "496163de",
   "metadata": {
    "ExecuteTime": {
     "end_time": "2024-01-21T15:33:08.804927Z",
     "start_time": "2024-01-21T15:33:08.800436Z"
    }
   },
   "outputs": [],
   "source": [
    "# Importing the pandas and matplotlib library under its usual alias\n",
    "import pandas as pd\n",
    "import matplotlib\n",
    "import matplotlib.pyplot as plt\n",
    "import seaborn as sns"
   ]
  },
  {
   "cell_type": "markdown",
   "id": "8125489d",
   "metadata": {},
   "source": [
    "## LOADING THE DATA"
   ]
  },
  {
   "cell_type": "code",
   "execution_count": 2,
   "id": "9f7048ba",
   "metadata": {
    "ExecuteTime": {
     "end_time": "2024-01-21T08:21:24.296909Z",
     "start_time": "2024-01-21T08:21:24.095804Z"
    }
   },
   "outputs": [
    {
     "data": {
      "text/html": [
       "<div>\n",
       "<style scoped>\n",
       "    .dataframe tbody tr th:only-of-type {\n",
       "        vertical-align: middle;\n",
       "    }\n",
       "\n",
       "    .dataframe tbody tr th {\n",
       "        vertical-align: top;\n",
       "    }\n",
       "\n",
       "    .dataframe thead th {\n",
       "        text-align: right;\n",
       "    }\n",
       "</style>\n",
       "<table border=\"1\" class=\"dataframe\">\n",
       "  <thead>\n",
       "    <tr style=\"text-align: right;\">\n",
       "      <th></th>\n",
       "      <th>business</th>\n",
       "      <th>year_founded</th>\n",
       "      <th>category_code</th>\n",
       "      <th>country_code</th>\n",
       "    </tr>\n",
       "  </thead>\n",
       "  <tbody>\n",
       "    <tr>\n",
       "      <th>0</th>\n",
       "      <td>Hamoud Boualem</td>\n",
       "      <td>1878</td>\n",
       "      <td>CAT11</td>\n",
       "      <td>DZA</td>\n",
       "    </tr>\n",
       "    <tr>\n",
       "      <th>1</th>\n",
       "      <td>Communauté Électrique du Bénin</td>\n",
       "      <td>1968</td>\n",
       "      <td>CAT10</td>\n",
       "      <td>BEN</td>\n",
       "    </tr>\n",
       "    <tr>\n",
       "      <th>2</th>\n",
       "      <td>Botswana Meat Commission</td>\n",
       "      <td>1965</td>\n",
       "      <td>CAT1</td>\n",
       "      <td>BWA</td>\n",
       "    </tr>\n",
       "    <tr>\n",
       "      <th>3</th>\n",
       "      <td>Air Burkina</td>\n",
       "      <td>1967</td>\n",
       "      <td>CAT2</td>\n",
       "      <td>BFA</td>\n",
       "    </tr>\n",
       "    <tr>\n",
       "      <th>4</th>\n",
       "      <td>Brarudi</td>\n",
       "      <td>1955</td>\n",
       "      <td>CAT9</td>\n",
       "      <td>BDI</td>\n",
       "    </tr>\n",
       "  </tbody>\n",
       "</table>\n",
       "</div>"
      ],
      "text/plain": [
       "                         business  year_founded category_code country_code\n",
       "0                  Hamoud Boualem          1878         CAT11          DZA\n",
       "1  Communauté Électrique du Bénin          1968         CAT10          BEN\n",
       "2        Botswana Meat Commission          1965          CAT1          BWA\n",
       "3                     Air Burkina          1967          CAT2          BFA\n",
       "4                         Brarudi          1955          CAT9          BDI"
      ]
     },
     "execution_count": 2,
     "metadata": {},
     "output_type": "execute_result"
    }
   ],
   "source": [
    "# Loading the business.csv file as a DataFrame called businesses\n",
    "\n",
    "businesses = pd.read_csv('businesses.csv')\n",
    "businesses.head()"
   ]
  },
  {
   "cell_type": "code",
   "execution_count": 3,
   "id": "2f61e977",
   "metadata": {
    "ExecuteTime": {
     "end_time": "2024-01-21T08:21:24.349594Z",
     "start_time": "2024-01-21T08:21:24.318024Z"
    }
   },
   "outputs": [
    {
     "data": {
      "text/html": [
       "<div>\n",
       "<style scoped>\n",
       "    .dataframe tbody tr th:only-of-type {\n",
       "        vertical-align: middle;\n",
       "    }\n",
       "\n",
       "    .dataframe tbody tr th {\n",
       "        vertical-align: top;\n",
       "    }\n",
       "\n",
       "    .dataframe thead th {\n",
       "        text-align: right;\n",
       "    }\n",
       "</style>\n",
       "<table border=\"1\" class=\"dataframe\">\n",
       "  <thead>\n",
       "    <tr style=\"text-align: right;\">\n",
       "      <th></th>\n",
       "      <th>country_code</th>\n",
       "      <th>country</th>\n",
       "      <th>continent</th>\n",
       "    </tr>\n",
       "  </thead>\n",
       "  <tbody>\n",
       "    <tr>\n",
       "      <th>0</th>\n",
       "      <td>AFG</td>\n",
       "      <td>Afghanistan</td>\n",
       "      <td>Asia</td>\n",
       "    </tr>\n",
       "    <tr>\n",
       "      <th>1</th>\n",
       "      <td>AGO</td>\n",
       "      <td>Angola</td>\n",
       "      <td>Africa</td>\n",
       "    </tr>\n",
       "    <tr>\n",
       "      <th>2</th>\n",
       "      <td>ALB</td>\n",
       "      <td>Albania</td>\n",
       "      <td>Europe</td>\n",
       "    </tr>\n",
       "    <tr>\n",
       "      <th>3</th>\n",
       "      <td>AND</td>\n",
       "      <td>Andorra</td>\n",
       "      <td>Europe</td>\n",
       "    </tr>\n",
       "    <tr>\n",
       "      <th>4</th>\n",
       "      <td>ARE</td>\n",
       "      <td>United Arab Emirates</td>\n",
       "      <td>Asia</td>\n",
       "    </tr>\n",
       "  </tbody>\n",
       "</table>\n",
       "</div>"
      ],
      "text/plain": [
       "  country_code               country continent\n",
       "0          AFG           Afghanistan      Asia\n",
       "1          AGO                Angola    Africa\n",
       "2          ALB               Albania    Europe\n",
       "3          AND               Andorra    Europe\n",
       "4          ARE  United Arab Emirates      Asia"
      ]
     },
     "execution_count": 3,
     "metadata": {},
     "output_type": "execute_result"
    }
   ],
   "source": [
    "countries = pd.read_csv('countries.csv')\n",
    "countries.head()"
   ]
  },
  {
   "cell_type": "code",
   "execution_count": 4,
   "id": "c22e9ee9",
   "metadata": {
    "ExecuteTime": {
     "end_time": "2024-01-21T08:21:24.677966Z",
     "start_time": "2024-01-21T08:21:24.379615Z"
    },
    "scrolled": true
   },
   "outputs": [
    {
     "data": {
      "text/html": [
       "<div>\n",
       "<style scoped>\n",
       "    .dataframe tbody tr th:only-of-type {\n",
       "        vertical-align: middle;\n",
       "    }\n",
       "\n",
       "    .dataframe tbody tr th {\n",
       "        vertical-align: top;\n",
       "    }\n",
       "\n",
       "    .dataframe thead th {\n",
       "        text-align: right;\n",
       "    }\n",
       "</style>\n",
       "<table border=\"1\" class=\"dataframe\">\n",
       "  <thead>\n",
       "    <tr style=\"text-align: right;\">\n",
       "      <th></th>\n",
       "      <th>category_code</th>\n",
       "      <th>category</th>\n",
       "    </tr>\n",
       "  </thead>\n",
       "  <tbody>\n",
       "    <tr>\n",
       "      <th>0</th>\n",
       "      <td>CAT1</td>\n",
       "      <td>Agriculture</td>\n",
       "    </tr>\n",
       "    <tr>\n",
       "      <th>1</th>\n",
       "      <td>CAT2</td>\n",
       "      <td>Aviation &amp; Transport</td>\n",
       "    </tr>\n",
       "    <tr>\n",
       "      <th>2</th>\n",
       "      <td>CAT3</td>\n",
       "      <td>Banking &amp; Finance</td>\n",
       "    </tr>\n",
       "    <tr>\n",
       "      <th>3</th>\n",
       "      <td>CAT4</td>\n",
       "      <td>Cafés, Restaurants &amp; Bars</td>\n",
       "    </tr>\n",
       "    <tr>\n",
       "      <th>4</th>\n",
       "      <td>CAT5</td>\n",
       "      <td>Conglomerate</td>\n",
       "    </tr>\n",
       "  </tbody>\n",
       "</table>\n",
       "</div>"
      ],
      "text/plain": [
       "  category_code                   category\n",
       "0          CAT1                Agriculture\n",
       "1          CAT2       Aviation & Transport\n",
       "2          CAT3          Banking & Finance\n",
       "3          CAT4  Cafés, Restaurants & Bars\n",
       "4          CAT5               Conglomerate"
      ]
     },
     "execution_count": 4,
     "metadata": {},
     "output_type": "execute_result"
    }
   ],
   "source": [
    "categories = pd.read_csv('categories.csv')\n",
    "categories.head()"
   ]
  },
  {
   "cell_type": "markdown",
   "id": "88b39e33",
   "metadata": {},
   "source": [
    "Now that we've loaded and viewed all our data, we can see that, we can see that the `businesses` and `countries` dataset have a similar column called `country_code`. Merging these two datasets together will enable us to answer questions relating to each continent and not only limiting us to the countries."
   ]
  },
  {
   "cell_type": "markdown",
   "id": "3f809466",
   "metadata": {},
   "source": [
    "### MERGING THE DATASETS"
   ]
  },
  {
   "cell_type": "code",
   "execution_count": 5,
   "id": "30c0e205",
   "metadata": {
    "ExecuteTime": {
     "end_time": "2024-01-21T08:21:24.935039Z",
     "start_time": "2024-01-21T08:21:24.855752Z"
    }
   },
   "outputs": [
    {
     "data": {
      "text/html": [
       "<div>\n",
       "<style scoped>\n",
       "    .dataframe tbody tr th:only-of-type {\n",
       "        vertical-align: middle;\n",
       "    }\n",
       "\n",
       "    .dataframe tbody tr th {\n",
       "        vertical-align: top;\n",
       "    }\n",
       "\n",
       "    .dataframe thead th {\n",
       "        text-align: right;\n",
       "    }\n",
       "</style>\n",
       "<table border=\"1\" class=\"dataframe\">\n",
       "  <thead>\n",
       "    <tr style=\"text-align: right;\">\n",
       "      <th></th>\n",
       "      <th>business</th>\n",
       "      <th>year_founded</th>\n",
       "      <th>category_code</th>\n",
       "      <th>country_code</th>\n",
       "      <th>country</th>\n",
       "      <th>continent</th>\n",
       "    </tr>\n",
       "  </thead>\n",
       "  <tbody>\n",
       "    <tr>\n",
       "      <th>0</th>\n",
       "      <td>Hamoud Boualem</td>\n",
       "      <td>1878</td>\n",
       "      <td>CAT11</td>\n",
       "      <td>DZA</td>\n",
       "      <td>Algeria</td>\n",
       "      <td>Africa</td>\n",
       "    </tr>\n",
       "    <tr>\n",
       "      <th>1</th>\n",
       "      <td>Communauté Électrique du Bénin</td>\n",
       "      <td>1968</td>\n",
       "      <td>CAT10</td>\n",
       "      <td>BEN</td>\n",
       "      <td>Benin</td>\n",
       "      <td>Africa</td>\n",
       "    </tr>\n",
       "    <tr>\n",
       "      <th>2</th>\n",
       "      <td>Botswana Meat Commission</td>\n",
       "      <td>1965</td>\n",
       "      <td>CAT1</td>\n",
       "      <td>BWA</td>\n",
       "      <td>Botswana</td>\n",
       "      <td>Africa</td>\n",
       "    </tr>\n",
       "    <tr>\n",
       "      <th>3</th>\n",
       "      <td>Air Burkina</td>\n",
       "      <td>1967</td>\n",
       "      <td>CAT2</td>\n",
       "      <td>BFA</td>\n",
       "      <td>Burkina Faso</td>\n",
       "      <td>Africa</td>\n",
       "    </tr>\n",
       "    <tr>\n",
       "      <th>4</th>\n",
       "      <td>Brarudi</td>\n",
       "      <td>1955</td>\n",
       "      <td>CAT9</td>\n",
       "      <td>BDI</td>\n",
       "      <td>Burundi</td>\n",
       "      <td>Africa</td>\n",
       "    </tr>\n",
       "  </tbody>\n",
       "</table>\n",
       "</div>"
      ],
      "text/plain": [
       "                         business  year_founded category_code country_code  \\\n",
       "0                  Hamoud Boualem          1878         CAT11          DZA   \n",
       "1  Communauté Électrique du Bénin          1968         CAT10          BEN   \n",
       "2        Botswana Meat Commission          1965          CAT1          BWA   \n",
       "3                     Air Burkina          1967          CAT2          BFA   \n",
       "4                         Brarudi          1955          CAT9          BDI   \n",
       "\n",
       "        country continent  \n",
       "0       Algeria    Africa  \n",
       "1         Benin    Africa  \n",
       "2      Botswana    Africa  \n",
       "3  Burkina Faso    Africa  \n",
       "4       Burundi    Africa  "
      ]
     },
     "execution_count": 5,
     "metadata": {},
     "output_type": "execute_result"
    }
   ],
   "source": [
    "# merging the business and countries datasets on country_code column\n",
    "businesses_countries = businesses.merge(countries, on = 'country_code')\n",
    "businesses_countries.head()"
   ]
  },
  {
   "cell_type": "markdown",
   "id": "c464af8e",
   "metadata": {},
   "source": [
    "## The Oldest Businesses in the World"
   ]
  },
  {
   "cell_type": "markdown",
   "id": "b03e0556",
   "metadata": {},
   "source": [
    "Since we know that the businesses dataset has columns that contain:\n",
    "- `business`: Name of the business.\n",
    "- `year_founded`: Year it was founded.\n",
    "- `category_code`: Code of the category the business belongs to.\n",
    "- `country_code`: Code of the country the business resides in.\n",
    "- `cou\n",
    "We can dive in straight away by finding out the oldest active businesses by sorting by the `year_founded` column."
   ]
  },
  {
   "cell_type": "code",
   "execution_count": 7,
   "id": "6ecae29f",
   "metadata": {
    "ExecuteTime": {
     "end_time": "2024-01-21T08:32:40.574019Z",
     "start_time": "2024-01-21T08:32:40.560652Z"
    }
   },
   "outputs": [
    {
     "data": {
      "text/html": [
       "<div>\n",
       "<style scoped>\n",
       "    .dataframe tbody tr th:only-of-type {\n",
       "        vertical-align: middle;\n",
       "    }\n",
       "\n",
       "    .dataframe tbody tr th {\n",
       "        vertical-align: top;\n",
       "    }\n",
       "\n",
       "    .dataframe thead th {\n",
       "        text-align: right;\n",
       "    }\n",
       "</style>\n",
       "<table border=\"1\" class=\"dataframe\">\n",
       "  <thead>\n",
       "    <tr style=\"text-align: right;\">\n",
       "      <th></th>\n",
       "      <th>business</th>\n",
       "      <th>year_founded</th>\n",
       "      <th>category_code</th>\n",
       "      <th>country_code</th>\n",
       "      <th>country</th>\n",
       "      <th>continent</th>\n",
       "    </tr>\n",
       "  </thead>\n",
       "  <tbody>\n",
       "    <tr>\n",
       "      <th>64</th>\n",
       "      <td>Kongō Gumi</td>\n",
       "      <td>578</td>\n",
       "      <td>CAT6</td>\n",
       "      <td>JPN</td>\n",
       "      <td>Japan</td>\n",
       "      <td>Asia</td>\n",
       "    </tr>\n",
       "    <tr>\n",
       "      <th>94</th>\n",
       "      <td>St. Peter Stifts Kulinarium</td>\n",
       "      <td>803</td>\n",
       "      <td>CAT4</td>\n",
       "      <td>AUT</td>\n",
       "      <td>Austria</td>\n",
       "      <td>Europe</td>\n",
       "    </tr>\n",
       "    <tr>\n",
       "      <th>107</th>\n",
       "      <td>Staffelter Hof Winery</td>\n",
       "      <td>862</td>\n",
       "      <td>CAT9</td>\n",
       "      <td>DEU</td>\n",
       "      <td>Germany</td>\n",
       "      <td>Europe</td>\n",
       "    </tr>\n",
       "    <tr>\n",
       "      <th>106</th>\n",
       "      <td>Monnaie de Paris</td>\n",
       "      <td>864</td>\n",
       "      <td>CAT12</td>\n",
       "      <td>FRA</td>\n",
       "      <td>France</td>\n",
       "      <td>Europe</td>\n",
       "    </tr>\n",
       "    <tr>\n",
       "      <th>103</th>\n",
       "      <td>The Royal Mint</td>\n",
       "      <td>886</td>\n",
       "      <td>CAT12</td>\n",
       "      <td>GBR</td>\n",
       "      <td>United Kingdom</td>\n",
       "      <td>Europe</td>\n",
       "    </tr>\n",
       "    <tr>\n",
       "      <th>111</th>\n",
       "      <td>Sean's Bar</td>\n",
       "      <td>900</td>\n",
       "      <td>CAT4</td>\n",
       "      <td>IRL</td>\n",
       "      <td>Ireland</td>\n",
       "      <td>Europe</td>\n",
       "    </tr>\n",
       "    <tr>\n",
       "      <th>112</th>\n",
       "      <td>Marinelli Bell Foundry</td>\n",
       "      <td>1040</td>\n",
       "      <td>CAT12</td>\n",
       "      <td>ITA</td>\n",
       "      <td>Italy</td>\n",
       "      <td>Europe</td>\n",
       "    </tr>\n",
       "    <tr>\n",
       "      <th>96</th>\n",
       "      <td>Affligem Brewery</td>\n",
       "      <td>1074</td>\n",
       "      <td>CAT9</td>\n",
       "      <td>BEL</td>\n",
       "      <td>Belgium</td>\n",
       "      <td>Europe</td>\n",
       "    </tr>\n",
       "    <tr>\n",
       "      <th>102</th>\n",
       "      <td>Munke Mølle</td>\n",
       "      <td>1135</td>\n",
       "      <td>CAT12</td>\n",
       "      <td>DNK</td>\n",
       "      <td>Denmark</td>\n",
       "      <td>Europe</td>\n",
       "    </tr>\n",
       "    <tr>\n",
       "      <th>58</th>\n",
       "      <td>Ma Yu Ching's Bucket Chicken House</td>\n",
       "      <td>1153</td>\n",
       "      <td>CAT4</td>\n",
       "      <td>CHN</td>\n",
       "      <td>China</td>\n",
       "      <td>Asia</td>\n",
       "    </tr>\n",
       "  </tbody>\n",
       "</table>\n",
       "</div>"
      ],
      "text/plain": [
       "                               business  year_founded category_code  \\\n",
       "64                           Kongō Gumi           578          CAT6   \n",
       "94          St. Peter Stifts Kulinarium           803          CAT4   \n",
       "107               Staffelter Hof Winery           862          CAT9   \n",
       "106                   Monnaie de Paris            864         CAT12   \n",
       "103                      The Royal Mint           886         CAT12   \n",
       "111                          Sean's Bar           900          CAT4   \n",
       "112              Marinelli Bell Foundry          1040         CAT12   \n",
       "96                     Affligem Brewery          1074          CAT9   \n",
       "102                         Munke Mølle          1135         CAT12   \n",
       "58   Ma Yu Ching's Bucket Chicken House          1153          CAT4   \n",
       "\n",
       "    country_code         country continent  \n",
       "64           JPN           Japan      Asia  \n",
       "94           AUT         Austria    Europe  \n",
       "107          DEU         Germany    Europe  \n",
       "106          FRA          France    Europe  \n",
       "103          GBR  United Kingdom    Europe  \n",
       "111          IRL         Ireland    Europe  \n",
       "112          ITA           Italy    Europe  \n",
       "96           BEL         Belgium    Europe  \n",
       "102          DNK         Denmark    Europe  \n",
       "58           CHN           China      Asia  "
      ]
     },
     "execution_count": 7,
     "metadata": {},
     "output_type": "execute_result"
    }
   ],
   "source": [
    "# Sorting the businesses from oldest businesses to youngest and viewing the top 10\n",
    "businesses_countries.sort_values('year_founded').head(10)"
   ]
  },
  {
   "cell_type": "markdown",
   "id": "9a3cf2a9",
   "metadata": {},
   "source": [
    "The output above shows the top 10 oldest businesses in the world. We can observe that the oldest of them all is the **Kongō Gumi** which was founded in the year 578, beating the second oldest country by well over 100 years!<br>\n",
    "We can go ahead and find out the oldest businesses in each continent."
   ]
  },
  {
   "cell_type": "markdown",
   "id": "b6a55fd8",
   "metadata": {},
   "source": [
    "## Oldest businesses on each continent"
   ]
  },
  {
   "cell_type": "code",
   "execution_count": 9,
   "id": "b4fb8f29",
   "metadata": {
    "ExecuteTime": {
     "end_time": "2024-01-21T08:40:30.771491Z",
     "start_time": "2024-01-21T08:40:30.686821Z"
    }
   },
   "outputs": [
    {
     "data": {
      "text/html": [
       "<div>\n",
       "<style scoped>\n",
       "    .dataframe tbody tr th:only-of-type {\n",
       "        vertical-align: middle;\n",
       "    }\n",
       "\n",
       "    .dataframe tbody tr th {\n",
       "        vertical-align: top;\n",
       "    }\n",
       "\n",
       "    .dataframe thead th {\n",
       "        text-align: right;\n",
       "    }\n",
       "</style>\n",
       "<table border=\"1\" class=\"dataframe\">\n",
       "  <thead>\n",
       "    <tr style=\"text-align: right;\">\n",
       "      <th></th>\n",
       "      <th>continent</th>\n",
       "      <th>country</th>\n",
       "      <th>business</th>\n",
       "      <th>year_founded</th>\n",
       "    </tr>\n",
       "  </thead>\n",
       "  <tbody>\n",
       "    <tr>\n",
       "      <th>0</th>\n",
       "      <td>Africa</td>\n",
       "      <td>Mauritius</td>\n",
       "      <td>Mauritius Post</td>\n",
       "      <td>1772</td>\n",
       "    </tr>\n",
       "    <tr>\n",
       "      <th>1</th>\n",
       "      <td>Asia</td>\n",
       "      <td>Japan</td>\n",
       "      <td>Kongō Gumi</td>\n",
       "      <td>578</td>\n",
       "    </tr>\n",
       "    <tr>\n",
       "      <th>2</th>\n",
       "      <td>Europe</td>\n",
       "      <td>Austria</td>\n",
       "      <td>St. Peter Stifts Kulinarium</td>\n",
       "      <td>803</td>\n",
       "    </tr>\n",
       "    <tr>\n",
       "      <th>3</th>\n",
       "      <td>North America</td>\n",
       "      <td>Mexico</td>\n",
       "      <td>La Casa de Moneda de México</td>\n",
       "      <td>1534</td>\n",
       "    </tr>\n",
       "    <tr>\n",
       "      <th>4</th>\n",
       "      <td>Oceania</td>\n",
       "      <td>Australia</td>\n",
       "      <td>Australia Post</td>\n",
       "      <td>1809</td>\n",
       "    </tr>\n",
       "    <tr>\n",
       "      <th>5</th>\n",
       "      <td>South America</td>\n",
       "      <td>Peru</td>\n",
       "      <td>Casa Nacional de Moneda</td>\n",
       "      <td>1565</td>\n",
       "    </tr>\n",
       "  </tbody>\n",
       "</table>\n",
       "</div>"
      ],
      "text/plain": [
       "       continent    country                     business  year_founded\n",
       "0         Africa  Mauritius               Mauritius Post          1772\n",
       "1           Asia      Japan                   Kongō Gumi           578\n",
       "2         Europe    Austria  St. Peter Stifts Kulinarium           803\n",
       "3  North America     Mexico  La Casa de Moneda de México          1534\n",
       "4        Oceania  Australia               Australia Post          1809\n",
       "5  South America       Peru      Casa Nacional de Moneda          1565"
      ]
     },
     "execution_count": 9,
     "metadata": {},
     "output_type": "execute_result"
    }
   ],
   "source": [
    "# created continent dataframe that only contains continent and oldest year\n",
    "continent = businesses_countries.groupby('continent').agg({'year_founded': 'min'})\n",
    "\n",
    "# merging the continent dataframe with business_countries to contain more values regarding the continent\n",
    "oldest_continent_business = continent.merge(businesses_countries, on = ['continent', 'year_founded'])\n",
    "\n",
    "# subsetting our merged dataset to view columns of interest\n",
    "oldest_continent_business[['continent', 'country', 'business', 'year_founded']]\n"
   ]
  },
  {
   "cell_type": "code",
   "execution_count": 37,
   "id": "50fdc82c",
   "metadata": {
    "ExecuteTime": {
     "end_time": "2024-01-21T15:49:11.485974Z",
     "start_time": "2024-01-21T15:49:11.471224Z"
    }
   },
   "outputs": [
    {
     "data": {
      "text/html": [
       "<div>\n",
       "<style scoped>\n",
       "    .dataframe tbody tr th:only-of-type {\n",
       "        vertical-align: middle;\n",
       "    }\n",
       "\n",
       "    .dataframe tbody tr th {\n",
       "        vertical-align: top;\n",
       "    }\n",
       "\n",
       "    .dataframe thead th {\n",
       "        text-align: right;\n",
       "    }\n",
       "</style>\n",
       "<table border=\"1\" class=\"dataframe\">\n",
       "  <thead>\n",
       "    <tr style=\"text-align: right;\">\n",
       "      <th></th>\n",
       "      <th>business</th>\n",
       "      <th>year_founded</th>\n",
       "      <th>category_code</th>\n",
       "      <th>country_code</th>\n",
       "      <th>country</th>\n",
       "    </tr>\n",
       "    <tr>\n",
       "      <th>continent</th>\n",
       "      <th></th>\n",
       "      <th></th>\n",
       "      <th></th>\n",
       "      <th></th>\n",
       "      <th></th>\n",
       "    </tr>\n",
       "  </thead>\n",
       "  <tbody>\n",
       "    <tr>\n",
       "      <th>Africa</th>\n",
       "      <td>50</td>\n",
       "      <td>50</td>\n",
       "      <td>50</td>\n",
       "      <td>50</td>\n",
       "      <td>50</td>\n",
       "    </tr>\n",
       "    <tr>\n",
       "      <th>Asia</th>\n",
       "      <td>42</td>\n",
       "      <td>42</td>\n",
       "      <td>42</td>\n",
       "      <td>42</td>\n",
       "      <td>42</td>\n",
       "    </tr>\n",
       "    <tr>\n",
       "      <th>Europe</th>\n",
       "      <td>42</td>\n",
       "      <td>42</td>\n",
       "      <td>42</td>\n",
       "      <td>42</td>\n",
       "      <td>42</td>\n",
       "    </tr>\n",
       "    <tr>\n",
       "      <th>North America</th>\n",
       "      <td>17</td>\n",
       "      <td>17</td>\n",
       "      <td>17</td>\n",
       "      <td>17</td>\n",
       "      <td>17</td>\n",
       "    </tr>\n",
       "    <tr>\n",
       "      <th>Oceania</th>\n",
       "      <td>3</td>\n",
       "      <td>3</td>\n",
       "      <td>3</td>\n",
       "      <td>3</td>\n",
       "      <td>3</td>\n",
       "    </tr>\n",
       "    <tr>\n",
       "      <th>South America</th>\n",
       "      <td>9</td>\n",
       "      <td>9</td>\n",
       "      <td>9</td>\n",
       "      <td>9</td>\n",
       "      <td>9</td>\n",
       "    </tr>\n",
       "  </tbody>\n",
       "</table>\n",
       "</div>"
      ],
      "text/plain": [
       "               business  year_founded  category_code  country_code  country\n",
       "continent                                                                  \n",
       "Africa               50            50             50            50       50\n",
       "Asia                 42            42             42            42       42\n",
       "Europe               42            42             42            42       42\n",
       "North America        17            17             17            17       17\n",
       "Oceania               3             3              3             3        3\n",
       "South America         9             9              9             9        9"
      ]
     },
     "execution_count": 37,
     "metadata": {},
     "output_type": "execute_result"
    }
   ],
   "source": [
    "businesses_countries.groupby('continent').count()"
   ]
  },
  {
   "cell_type": "code",
   "execution_count": 43,
   "id": "4b967c6f",
   "metadata": {
    "ExecuteTime": {
     "end_time": "2024-01-21T15:51:38.826827Z",
     "start_time": "2024-01-21T15:51:38.819408Z"
    }
   },
   "outputs": [
    {
     "data": {
      "text/plain": [
       "1999"
      ]
     },
     "execution_count": 43,
     "metadata": {},
     "output_type": "execute_result"
    }
   ],
   "source": [
    "businesses_countries['year_founded'].max()"
   ]
  },
  {
   "cell_type": "markdown",
   "id": "aa011719",
   "metadata": {},
   "source": [
    "## Unknown Oldest Businesses"
   ]
  },
  {
   "cell_type": "markdown",
   "id": "c3155920",
   "metadata": {},
   "source": [
    "In BusinessFinancing.co.uk's publication, it was made that that they weren't able to determine the oldest business for some countries, and those countries are simple left off `businesses.csv` and by extension, `businesses`.\n",
    "\n",
    "Let's compare the two datasets (`countries` and `businesses`) in one DataFrame to find out which countries don't have a known oldest business!"
   ]
  },
  {
   "cell_type": "code",
   "execution_count": 10,
   "id": "4a5ac66a",
   "metadata": {
    "ExecuteTime": {
     "end_time": "2024-01-21T09:59:36.706124Z",
     "start_time": "2024-01-21T09:59:36.412624Z"
    }
   },
   "outputs": [
    {
     "data": {
      "text/plain": [
       "1                                Angola\n",
       "7                   Antigua and Barbuda\n",
       "18                              Bahamas\n",
       "48                   Dominican Republic\n",
       "50                              Ecuador\n",
       "57                                 Fiji\n",
       "59      Micronesia, Federated States of\n",
       "63                                Ghana\n",
       "65                               Gambia\n",
       "69                              Grenada\n",
       "79            Iran, Islamic Republic of\n",
       "89                           Kyrgyzstan\n",
       "91                             Kiribati\n",
       "92                Saint Kitts and Nevis\n",
       "107                              Monaco\n",
       "108                Moldova, Republic of\n",
       "110                            Maldives\n",
       "112                    Marshall Islands\n",
       "131                               Nauru\n",
       "138                               Palau\n",
       "139                    Papua New Guinea\n",
       "143                            Paraguay\n",
       "144                 Palestine, State of\n",
       "153                     Solomon Islands\n",
       "160                            Suriname\n",
       "170                          Tajikistan\n",
       "171                        Turkmenistan\n",
       "172                         Timor-Leste\n",
       "173                               Tonga\n",
       "177                              Tuvalu\n",
       "185    Saint Vincent and the Grenadines\n",
       "189                               Samoa\n",
       "Name: country, dtype: object"
      ]
     },
     "execution_count": 10,
     "metadata": {},
     "output_type": "execute_result"
    }
   ],
   "source": [
    "# Use .merge() to create a DataFrame, all_countries\n",
    "all_countries = businesses.merge(countries, on='country_code', how = 'right', indicator =True)\n",
    "\n",
    "# Filter to include only countries without oldest businesses\n",
    "missing_countries = all_countries[all_countries['_merge'] != 'both']\n",
    "\n",
    "# Create a series of the country names with missing oldest business data\n",
    "missing_countries_series = missing_countries[\"country\"]\n",
    "\n",
    "# Display the series\n",
    "missing_countries_series"
   ]
  },
  {
   "cell_type": "markdown",
   "id": "ce6224da",
   "metadata": {},
   "source": [
    "## Industry Sector"
   ]
  },
  {
   "cell_type": "code",
   "execution_count": 14,
   "id": "52ab77da",
   "metadata": {
    "ExecuteTime": {
     "end_time": "2024-01-21T15:22:13.350530Z",
     "start_time": "2024-01-21T15:22:13.188017Z"
    }
   },
   "outputs": [
    {
     "data": {
      "image/png": "[encoded data removed]",
      "text/plain": [
       "<Figure size 640x480 with 1 Axes>"
      ]
     },
     "metadata": {},
     "output_type": "display_data"
    }
   ],
   "source": [
    "# merge categories to businesses\n",
    "businesses_categories = businesses.merge(categories, on = 'category_code')\n",
    "\n",
    "# Create a DataFrame which lists the number of oldest businesses in each category\n",
    "count_business_cats = businesses_categories.groupby('category').agg({'business':'count'})\n",
    "\n",
    "plt.hist(count_business_cats, bins = 4, edgecolor = 'black')\n",
    "plt.xlabel('')\n",
    "plt.show()"
   ]
  },
  {
   "cell_type": "code",
   "execution_count": 47,
   "id": "7ca744a3",
   "metadata": {
    "ExecuteTime": {
     "end_time": "2024-01-21T16:58:32.623071Z",
     "start_time": "2024-01-21T16:58:32.611219Z"
    }
   },
   "outputs": [
    {
     "data": {
      "text/html": [
       "<div>\n",
       "<style scoped>\n",
       "    .dataframe tbody tr th:only-of-type {\n",
       "        vertical-align: middle;\n",
       "    }\n",
       "\n",
       "    .dataframe tbody tr th {\n",
       "        vertical-align: top;\n",
       "    }\n",
       "\n",
       "    .dataframe thead th {\n",
       "        text-align: right;\n",
       "    }\n",
       "</style>\n",
       "<table border=\"1\" class=\"dataframe\">\n",
       "  <thead>\n",
       "    <tr style=\"text-align: right;\">\n",
       "      <th></th>\n",
       "      <th>year_founded</th>\n",
       "    </tr>\n",
       "    <tr>\n",
       "      <th>category</th>\n",
       "      <th></th>\n",
       "    </tr>\n",
       "  </thead>\n",
       "  <tbody>\n",
       "    <tr>\n",
       "      <th>Medical</th>\n",
       "      <td>1422</td>\n",
       "    </tr>\n",
       "    <tr>\n",
       "      <th>Construction</th>\n",
       "      <td>2423</td>\n",
       "    </tr>\n",
       "    <tr>\n",
       "      <th>Telecommunications</th>\n",
       "      <td>3797</td>\n",
       "    </tr>\n",
       "    <tr>\n",
       "      <th>Mining</th>\n",
       "      <td>5123</td>\n",
       "    </tr>\n",
       "    <tr>\n",
       "      <th>Consumer Goods</th>\n",
       "      <td>5243</td>\n",
       "    </tr>\n",
       "    <tr>\n",
       "      <th>Defense</th>\n",
       "      <td>5497</td>\n",
       "    </tr>\n",
       "    <tr>\n",
       "      <th>Conglomerate</th>\n",
       "      <td>5671</td>\n",
       "    </tr>\n",
       "    <tr>\n",
       "      <th>Tourism &amp; Hotels</th>\n",
       "      <td>6051</td>\n",
       "    </tr>\n",
       "    <tr>\n",
       "      <th>Retail</th>\n",
       "      <td>7390</td>\n",
       "    </tr>\n",
       "    <tr>\n",
       "      <th>Energy</th>\n",
       "      <td>7792</td>\n",
       "    </tr>\n",
       "    <tr>\n",
       "      <th>Cafés, Restaurants &amp; Bars</th>\n",
       "      <td>8532</td>\n",
       "    </tr>\n",
       "    <tr>\n",
       "      <th>Agriculture</th>\n",
       "      <td>10669</td>\n",
       "    </tr>\n",
       "    <tr>\n",
       "      <th>Food &amp; Beverages</th>\n",
       "      <td>10953</td>\n",
       "    </tr>\n",
       "    <tr>\n",
       "      <th>Media</th>\n",
       "      <td>13663</td>\n",
       "    </tr>\n",
       "    <tr>\n",
       "      <th>Manufacturing &amp; Production</th>\n",
       "      <td>21854</td>\n",
       "    </tr>\n",
       "    <tr>\n",
       "      <th>Postal Service</th>\n",
       "      <td>29113</td>\n",
       "    </tr>\n",
       "    <tr>\n",
       "      <th>Aviation &amp; Transport</th>\n",
       "      <td>36598</td>\n",
       "    </tr>\n",
       "    <tr>\n",
       "      <th>Distillers, Vintners, &amp; Breweries</th>\n",
       "      <td>37292</td>\n",
       "    </tr>\n",
       "    <tr>\n",
       "      <th>Banking &amp; Finance</th>\n",
       "      <td>70302</td>\n",
       "    </tr>\n",
       "  </tbody>\n",
       "</table>\n",
       "</div>"
      ],
      "text/plain": [
       "                                   year_founded\n",
       "category                                       \n",
       "Medical                                    1422\n",
       "Construction                               2423\n",
       "Telecommunications                         3797\n",
       "Mining                                     5123\n",
       "Consumer Goods                             5243\n",
       "Defense                                    5497\n",
       "Conglomerate                               5671\n",
       "Tourism & Hotels                           6051\n",
       "Retail                                     7390\n",
       "Energy                                     7792\n",
       "Cafés, Restaurants & Bars                  8532\n",
       "Agriculture                               10669\n",
       "Food & Beverages                          10953\n",
       "Media                                     13663\n",
       "Manufacturing & Production                21854\n",
       "Postal Service                            29113\n",
       "Aviation & Transport                      36598\n",
       "Distillers, Vintners, & Breweries         37292\n",
       "Banking & Finance                         70302"
      ]
     },
     "execution_count": 47,
     "metadata": {},
     "output_type": "execute_result"
    }
   ],
   "source": [
    "# Create a DataFrame which lists the cumulative years that businesses from each category have been operating\n",
    "years_business_cats = businesses_categories.groupby('category').agg({'year_founded':'sum'})\n",
    "years_business_cats.sort_values('year_founded',)"
   ]
  },
  {
   "cell_type": "code",
   "execution_count": 46,
   "id": "cc128e02",
   "metadata": {
    "ExecuteTime": {
     "end_time": "2024-01-21T16:43:12.036085Z",
     "start_time": "2024-01-21T16:43:11.749453Z"
    }
   },
   "outputs": [
    {
     "data": {
      "image/png": "[encoded data removed]",
      "text/plain": [
       "<Figure size 1200x800 with 1 Axes>"
      ]
     },
     "metadata": {},
     "output_type": "display_data"
    }
   ],
   "source": [
    "fig, ax = plt.subplots(figsize = (12, 8))\n",
    "ax.bar(years_business_cats.head(10).index, years_business_cats['year_founded'].head(10), color = 'brown')\n",
    "\n",
    "ax.set(title = 'Top 10 Oldest Industry per Number of Years Active',\n",
    "      xlabel = 'Industry Sector', ylabel = 'Number of Years');\n",
    "plt.xticks(rotation = 35);"
   ]
  },
  {
   "cell_type": "code",
   "execution_count": null,
   "id": "ba0b9c42",
   "metadata": {},
   "outputs": [],
   "source": []
  }
 ],
 "metadata": {
  "kernelspec": {
   "display_name": "Python 3 (ipykernel)",
   "language": "python",
   "name": "python3"
  },
  "language_info": {
   "codemirror_mode": {
    "name": "ipython",
    "version": 3
   },
   "file_extension": ".py",
   "mimetype": "text/x-python",
   "name": "python",
   "nbconvert_exporter": "python",
   "pygments_lexer": "ipython3",
   "version": "3.11.5"
  },
  "toc": {
   "base_numbering": 1,
   "nav_menu": {},
   "number_sections": true,
   "sideBar": true,
   "skip_h1_title": false,
   "title_cell": "Table of Contents",
   "title_sidebar": "Contents",
   "toc_cell": false,
   "toc_position": {},
   "toc_section_display": true,
   "toc_window_display": false
  },
  "varInspector": {
   "cols": {
    "lenName": 16,
    "lenType": 16,
    "lenVar": 40
   },
   "kernels_config": {
    "python": {
     "delete_cmd_postfix": "",
     "delete_cmd_prefix": "del ",
     "library": "var_list.py",
     "varRefreshCmd": "print(var_dic_list())"
    },
    "r": {
     "delete_cmd_postfix": ") ",
     "delete_cmd_prefix": "rm(",
     "library": "var_list.r",
     "varRefreshCmd": "cat(var_dic_list()) "
    }
   },
   "types_to_exclude": [
    "module",
    "function",
    "builtin_function_or_method",
    "instance",
    "_Feature"
   ],
   "window_display": false
  }
 },
 "nbformat": 4,
 "nbformat_minor": 5
}
